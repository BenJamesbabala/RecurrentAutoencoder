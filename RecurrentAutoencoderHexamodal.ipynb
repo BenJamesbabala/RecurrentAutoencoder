{
 "cells": [
  {
   "cell_type": "code",
   "execution_count": 1,
   "metadata": {
    "collapsed": false
   },
   "outputs": [
    {
     "name": "stdout",
     "output_type": "stream",
     "text": [
      "Populating the interactive namespace from numpy and matplotlib\n",
      "Couldn't import dot_parser, loading of dot files will not be possible.\n"
     ]
    },
    {
     "name": "stderr",
     "output_type": "stream",
     "text": [
      "Using gpu device 0: GeForce GTX880M (CNMeM is disabled, cuDNN 5103)\n",
      "/usr/local/lib/python2.7/dist-packages/theano/sandbox/cuda/__init__.py:599: UserWarning: Your cuDNN version is more recent than the one Theano officially supports. If you see any problems, try updating Theano or downgrading cuDNN to version 5.\n",
      "  warnings.warn(warn)\n"
     ]
    }
   ],
   "source": [
    "%pylab inline\n",
    "\n",
    "import numpy as np\n",
    "import matplotlib.pyplot as plt\n",
    "\n",
    "import theano\n",
    "import theano.tensor as T\n",
    "import lasagne\n",
    "from math import *"
   ]
  },
  {
   "cell_type": "code",
   "execution_count": 2,
   "metadata": {
    "collapsed": false
   },
   "outputs": [],
   "source": [
    "\n",
    "def sample(N):\n",
    "    z1 = np.random.randint(3,size=N)\n",
    "    z2 = np.random.randn(N,2)\n",
    "    z3 = np.random.randint(2,size=N)+1\n",
    "    \n",
    "    x = np.array([(z3+0.2*z2[:,1])*(np.sin(2*3.14159*z1/3.0+0.2*z3 + z3*z2[:,0]*0.1)), (z3+0.2*z2[:,1])*(np.cos(2*3.14159*z1/3.0+0.2*z3 + z3*z2[:,0]*0.1))]).T\n",
    "    y = 1.0/(1.0+np.exp(-1.5*x))\n",
    "    return y"
   ]
  },
  {
   "cell_type": "code",
   "execution_count": 3,
   "metadata": {
    "collapsed": false
   },
   "outputs": [
    {
     "data": {
      "image/png": "[encoded data removed]",
      "text/plain": [
       "<matplotlib.figure.Figure at 0x7f7985c41b10>"
      ]
     },
     "metadata": {},
     "output_type": "display_data"
    }
   ],
   "source": [
    "data = sample(100000)\n",
    "plt.hist2d(data[:,0],data[:,1],40)\n",
    "plt.show()"
   ]
  },
  {
   "cell_type": "code",
   "execution_count": 4,
   "metadata": {
    "collapsed": false
   },
   "outputs": [],
   "source": [
    "invar = T.matrix()\n",
    "\n",
    "TEMP = 0.4\n",
    "TEMP2 = 0.0\n",
    "HIDDEN = 256\n",
    "\n",
    "input = lasagne.layers.InputLayer((None,2),invar)\n",
    "p1_dense1 = lasagne.layers.DenseLayer(input, num_units = HIDDEN)\n",
    "p1_dense2 = lasagne.layers.DenseLayer(p1_dense1, num_units = HIDDEN, nonlinearity = lasagne.nonlinearities.sigmoid)\n",
    "p1_noisify = lasagne.layers.GaussianNoiseLayer(p1_dense2, sigma = TEMP)\n",
    "p1_dense3 = lasagne.layers.DenseLayer(p1_noisify, num_units = HIDDEN)\n",
    "p1_out = lasagne.layers.DenseLayer(p1_dense3, num_units=2, nonlinearity = lasagne.nonlinearities.sigmoid)\n",
    "p1_outnoise = lasagne.layers.GaussianNoiseLayer(p1_out, sigma = TEMP2)\n",
    "\n",
    "# Now repeat...\n",
    "p2_dense1 = lasagne.layers.DenseLayer(p1_outnoise, num_units = HIDDEN, W=p1_dense1.W, b=p1_dense1.b)\n",
    "p2_dense2 = lasagne.layers.DenseLayer(p2_dense1, num_units = HIDDEN, W=p1_dense2.W, b=p1_dense2.b, nonlinearity = lasagne.nonlinearities.sigmoid)\n",
    "p2_noisify = lasagne.layers.GaussianNoiseLayer(p2_dense2, sigma = TEMP)\n",
    "p2_dense3 = lasagne.layers.DenseLayer(p2_noisify, num_units = HIDDEN, W=p1_dense3.W, b=p1_dense3.b)\n",
    "p2_out = lasagne.layers.DenseLayer(p2_dense3, num_units=2, nonlinearity = lasagne.nonlinearities.sigmoid, W=p1_out.W, b=p1_out.b)\n",
    "p2_outnoise = lasagne.layers.GaussianNoiseLayer(p2_out, sigma = TEMP2)\n",
    "\n",
    "# Now repeat...\n",
    "p3_dense1 = lasagne.layers.DenseLayer(p2_outnoise, num_units = HIDDEN, W=p1_dense1.W, b=p1_dense1.b)\n",
    "p3_dense2 = lasagne.layers.DenseLayer(p3_dense1, num_units = HIDDEN, W=p1_dense2.W, b=p1_dense2.b, nonlinearity = lasagne.nonlinearities.sigmoid)\n",
    "p3_noisify = lasagne.layers.GaussianNoiseLayer(p3_dense2, sigma = TEMP)\n",
    "p3_dense3 = lasagne.layers.DenseLayer(p3_noisify, num_units = HIDDEN, W=p1_dense3.W, b=p1_dense3.b)\n",
    "p3_out = lasagne.layers.DenseLayer(p3_dense3, num_units=2, nonlinearity = lasagne.nonlinearities.sigmoid, W=p1_out.W, b=p1_out.b)\n",
    "p3_outnoise = lasagne.layers.GaussianNoiseLayer(p3_out, sigma = TEMP2)\n",
    "\n",
    "# Now repeat...\n",
    "p4_dense1 = lasagne.layers.DenseLayer(p3_outnoise, num_units = HIDDEN, W=p1_dense1.W, b=p1_dense1.b)\n",
    "p4_dense2 = lasagne.layers.DenseLayer(p4_dense1, num_units = HIDDEN, W=p1_dense2.W, b=p1_dense2.b, nonlinearity = lasagne.nonlinearities.sigmoid)\n",
    "p4_noisify = lasagne.layers.GaussianNoiseLayer(p4_dense2, sigma = TEMP)\n",
    "p4_dense3 = lasagne.layers.DenseLayer(p4_noisify, num_units = HIDDEN, W=p1_dense3.W, b=p1_dense3.b)\n",
    "p4_out = lasagne.layers.DenseLayer(p4_dense3, num_units=2, nonlinearity = lasagne.nonlinearities.sigmoid, W=p1_out.W, b=p1_out.b)\n",
    "p4_outnoise = lasagne.layers.GaussianNoiseLayer(p4_out, sigma = TEMP2)\n",
    "\n",
    "# Now repeat...\n",
    "p5_dense1 = lasagne.layers.DenseLayer(p4_outnoise, num_units = HIDDEN, W=p1_dense1.W, b=p1_dense1.b)\n",
    "p5_dense2 = lasagne.layers.DenseLayer(p5_dense1, num_units = HIDDEN, W=p1_dense2.W, b=p1_dense2.b, nonlinearity = lasagne.nonlinearities.sigmoid)\n",
    "p5_noisify = lasagne.layers.GaussianNoiseLayer(p5_dense2, sigma = TEMP)\n",
    "p5_dense3 = lasagne.layers.DenseLayer(p5_noisify, num_units = HIDDEN, W=p1_dense3.W, b=p1_dense3.b)\n",
    "p5_out = lasagne.layers.DenseLayer(p5_dense3, num_units=2, nonlinearity = lasagne.nonlinearities.sigmoid, W=p1_out.W, b=p1_out.b)\n",
    "p5_outnoise = lasagne.layers.GaussianNoiseLayer(p5_out, sigma = TEMP2)\n",
    "\n",
    "# Now repeat...\n",
    "p6_dense1 = lasagne.layers.DenseLayer(p5_outnoise, num_units = HIDDEN, W=p1_dense1.W, b=p1_dense1.b)\n",
    "p6_dense2 = lasagne.layers.DenseLayer(p6_dense1, num_units = HIDDEN, W=p1_dense2.W, b=p1_dense2.b, nonlinearity = lasagne.nonlinearities.sigmoid)\n",
    "p6_noisify = lasagne.layers.GaussianNoiseLayer(p6_dense2, sigma = TEMP)\n",
    "p6_dense3 = lasagne.layers.DenseLayer(p6_noisify, num_units = HIDDEN, W=p1_dense3.W, b=p1_dense3.b)\n",
    "p6_out = lasagne.layers.DenseLayer(p6_dense3, num_units=2, nonlinearity = lasagne.nonlinearities.sigmoid, W=p1_out.W, b=p1_out.b)\n",
    "p6_outnoise = lasagne.layers.GaussianNoiseLayer(p6_out, sigma = TEMP2)\n",
    "\n",
    "# Now repeat...\n",
    "p7_dense1 = lasagne.layers.DenseLayer(p6_outnoise, num_units = HIDDEN, W=p1_dense1.W, b=p1_dense1.b)\n",
    "p7_dense2 = lasagne.layers.DenseLayer(p7_dense1, num_units = HIDDEN, W=p1_dense2.W, b=p1_dense2.b, nonlinearity = lasagne.nonlinearities.sigmoid)\n",
    "p7_noisify = lasagne.layers.GaussianNoiseLayer(p7_dense2, sigma = TEMP)\n",
    "p7_dense3 = lasagne.layers.DenseLayer(p7_noisify, num_units = HIDDEN, W=p1_dense3.W, b=p1_dense3.b)\n",
    "p7_out = lasagne.layers.DenseLayer(p7_dense3, num_units=2, nonlinearity = lasagne.nonlinearities.sigmoid, W=p1_out.W, b=p1_out.b)\n",
    "\n",
    "out1,out2,out3,out4,out5,out6,out7 = lasagne.layers.get_output([p1_out,p2_out,p3_out,p4_out,p5_out,p6_out,p7_out])\n",
    "\n",
    "loss = T.mean( (out1-invar)**2 + (out2-invar)**2 + (out3-invar)**2 + (out4-invar)**2 + (out5-invar)**2 + (out6-invar)**2 + (out7-invar)**2)\n",
    "params = lasagne.layers.get_all_params(p7_out,trainable=True)\n",
    "updates = lasagne.updates.adam(loss,params,learning_rate = 1e-3)\n",
    "\n",
    "train = theano.function([invar], loss, updates=updates, allow_input_downcast = True)\n",
    "project = theano.function([invar], out7, allow_input_downcast = True)"
   ]
  },
  {
   "cell_type": "code",
   "execution_count": 5,
   "metadata": {
    "collapsed": false
   },
   "outputs": [
    {
     "name": "stdout",
     "output_type": "stream",
     "text": [
      "0.797172904015\n",
      "0.376685261726\n",
      "0.330215841532\n",
      "0.0788879096508\n",
      "0.0630481690168\n",
      "0.0597122460604\n",
      "0.0560206323862\n",
      "0.0497223995626\n",
      "0.0474856905639\n",
      "0.047755997628\n",
      "0.0415515452623\n",
      "0.0433428660035\n",
      "0.0338953062892\n",
      "0.0355174131691\n",
      "0.0318645462394\n",
      "0.0319139994681\n",
      "0.0274570751935\n",
      "0.0296505186707\n",
      "0.0262829530984\n",
      "0.0260078329593\n",
      "0.0264870841056\n",
      "0.0237705167383\n",
      "0.0237536150962\n",
      "0.0257007870823\n",
      "0.0232343785465\n",
      "0.0219830330461\n",
      "0.0220802780241\n",
      "0.0233245864511\n",
      "0.0196057856083\n",
      "0.0213776249439\n",
      "0.0200257394463\n",
      "0.0185995455831\n",
      "0.019552256912\n",
      "0.0197945032269\n",
      "0.0174520798028\n",
      "0.0189339984208\n",
      "0.0176494531333\n",
      "0.0173293892294\n",
      "0.0166314132512\n",
      "0.0152208674699\n",
      "0.0161750726402\n",
      "0.0162981338799\n",
      "0.0142134828493\n",
      "0.014818216674\n",
      "0.0138083994389\n",
      "0.0154497595504\n",
      "0.0140280453488\n",
      "0.0159476976842\n",
      "0.0132405646145\n",
      "0.0123723652214\n",
      "0.0126754622906\n",
      "0.0122866230085\n",
      "0.0114721413702\n",
      "0.0120979528874\n",
      "0.0133304968476\n",
      "0.0122421383858\n",
      "0.0105509553105\n",
      "0.0100729474798\n",
      "0.0103964926675\n",
      "0.00956105999649\n",
      "0.0107394456863\n",
      "0.0101858833805\n",
      "0.0112659847364\n",
      "0.0101041719317\n",
      "0.0109075140208\n",
      "0.00955528020859\n",
      "0.00978027191013\n",
      "0.00915901269764\n",
      "0.00912770535797\n",
      "0.00889035500586\n",
      "0.00847449153662\n",
      "0.00929876789451\n",
      "0.00854007340968\n",
      "0.00834699161351\n",
      "0.00861335452646\n",
      "0.0089213848114\n",
      "0.00843678507954\n",
      "0.00803559366614\n",
      "0.00845359824598\n",
      "0.00831267982721\n",
      "0.00803651660681\n",
      "0.00786259584129\n",
      "0.00868070870638\n",
      "0.00775858340785\n",
      "0.00782014429569\n",
      "0.00793773494661\n",
      "0.00809574779123\n",
      "0.00766344787553\n",
      "0.00732969911769\n",
      "0.00775694055483\n",
      "0.00730093801394\n",
      "0.00685981987044\n",
      "0.00687608169392\n",
      "0.00767840677872\n",
      "0.00779128959402\n",
      "0.00679909437895\n",
      "0.0070042964071\n",
      "0.00788304209709\n",
      "0.00661312509328\n",
      "0.00661308784038\n"
     ]
    }
   ],
   "source": [
    "#data = sample(1000)\n",
    "\n",
    "for epoch in range(10000):\n",
    "    data = sample(1000)\n",
    "    err = train(data)\n",
    "    if epoch%100 == 0:\n",
    "        print err"
   ]
  },
  {
   "cell_type": "code",
   "execution_count": 6,
   "metadata": {
    "collapsed": true
   },
   "outputs": [],
   "source": [
    "fakes = np.random.rand(100000,2)\n",
    "pfakes = project(fakes)\n",
    "for i in range(10):\n",
    "    pfakes = project(pfakes)"
   ]
  },
  {
   "cell_type": "code",
   "execution_count": 7,
   "metadata": {
    "collapsed": false
   },
   "outputs": [
    {
     "data": {
      "image/png": "[encoded data removed]",
      "text/plain": [
       "<matplotlib.figure.Figure at 0x7f796fc09750>"
      ]
     },
     "metadata": {},
     "output_type": "display_data"
    },
    {
     "data": {
      "image/png": "[encoded data removed]",
      "text/plain": [
       "<matplotlib.figure.Figure at 0x7f796fbaccd0>"
      ]
     },
     "metadata": {},
     "output_type": "display_data"
    }
   ],
   "source": [
    "plt.hist2d(pfakes[:,0],pfakes[:,1],40)\n",
    "plt.show()\n",
    "data = sample(1000000)\n",
    "plt.hist2d(data[:,0],data[:,1],40)\n",
    "plt.plot(pfakes[::50,0],pfakes[::50,1],'r.')\n",
    "plt.show()"
   ]
  },
  {
   "cell_type": "code",
   "execution_count": null,
   "metadata": {
    "collapsed": true
   },
   "outputs": [],
   "source": []
  }
 ],
 "metadata": {
  "kernelspec": {
   "display_name": "Python 2",
   "language": "python",
   "name": "python2"
  },
  "language_info": {
   "codemirror_mode": {
    "name": "ipython",
    "version": 2
   },
   "file_extension": ".py",
   "mimetype": "text/x-python",
   "name": "python",
   "nbconvert_exporter": "python",
   "pygments_lexer": "ipython2",
   "version": "2.7.10"
  }
 },
 "nbformat": 4,
 "nbformat_minor": 0
}
